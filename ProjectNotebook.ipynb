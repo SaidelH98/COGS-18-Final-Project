{
 "cells": [
  {
   "cell_type": "markdown",
   "metadata": {},
   "source": [
    "# Basketball Analyst Bot"
   ]
  },
  {
   "cell_type": "markdown",
   "metadata": {},
   "source": [
    "Name: Saidel Halol <br>\n",
    "PID: A14024702"
   ]
  },
  {
   "cell_type": "markdown",
   "metadata": {},
   "source": [
    "My project is a Basketball Analyst \"chatbot\" that interacts with a user and makes a prediction on how a seven game series between two NBA teams regardless of year would end up. The prediction is based on comparing the two teams's stats such as total rebounds, points scored, 3-point percentage, etc. The bot takes in a csv file downloaded from basketball-reference.com. Each file has a year as its name such as 1967.csv or 2011.csv representing the team stats of every NBA team from that year. The bot reads these csv files and turns it into pandas dataframes and extracting and copying the relevant team stats based on user keyboard input into a new dataframe, which is then ran into a function that analyzes if, for example if a team's Field Goal % is higher than the other team, and then adding one point to that winning team's score. The two scores are then subtracted from each other and based on the overall difference between the two team's scores, a winner is assigned and the bot claims that that team will win in either 4,5,6 games or if both of the teams are evenly matched (tied score) then that the series will go 7 games and the bot flips a coin to determine the winner. \n",
    "\n",
    "I decided to write this Basketball Analyst Bot, because many people like to claim that the newest dominant team, such as the late 2010's Golden State Warriors would get beaten badly by a former dominant team like the 90's Chicago Bulls or vice versa. My aim in creating this bot is to make a more educated prediction based on stats rather than making predictions based on opinion."
   ]
  },
  {
   "cell_type": "markdown",
   "metadata": {},
   "source": [
    "## Project Code"
   ]
  },
  {
   "cell_type": "code",
   "execution_count": null,
   "metadata": {},
   "outputs": [],
   "source": [
    "from my_module.functions import remove_star, standardize_team, year_input, team_input, check_teams, append_and_drop, calculate_score, check_calculate_score, calculate_prediction"
   ]
  },
  {
   "cell_type": "code",
   "execution_count": null,
   "metadata": {},
   "outputs": [],
   "source": [
    "\"\"\"\n",
    "Main function\n",
    "\"\"\"\n",
    "def bballbot():\n",
    "    chat = True\n",
    "    while chat == True:\n",
    "        #Intro Message\n",
    "        print(\"Hi I'm Mr.BBall! I can predict how a 7 game series of basketball might end up between two NBA teams from any year!\")\n",
    "        \n",
    "        same_teams = True\n",
    "        while same_teams == True:\n",
    "            print(\"What year is the first team from? Type a year from 1950 to 2018\")\n",
    "            year1, df1 = year_input()\n",
    "            \n",
    "            print(\"What is the first team? Type 'Team' to view valid teams\")\n",
    "            team1, df_team1 = team_input(year1, df1)\n",
    "            \n",
    "            print(\"What year is the second team from? Type a year from 1950 to 2018\")\n",
    "            year2, df2 = year_input()\n",
    "            \n",
    "            print(\"What is the second team? Type 'Team' to view valid teams\")\n",
    "            team2, df_team2 = team_input(year2, df2)\n",
    "            \n",
    "            same_teams = check_teams(year1, team1, year2, team2)\n",
    "        \n",
    "        df_score = append_and_drop(team1, df_team1, team2, df_team2)\n",
    "        \n",
    "        scores = check_calculate_score(df_score, team1, year1, team2, year2)\n",
    "        \n",
    "        result = calculate_prediction(scores, team1, year1, team2, year2)\n",
    "        \n",
    "        print(result)\n",
    "           \n",
    "        chat = False\n",
    "        \n",
    "    print('Thank you for your time.')"
   ]
  },
  {
   "cell_type": "code",
   "execution_count": null,
   "metadata": {},
   "outputs": [],
   "source": [
    "bballbot()"
   ]
  }
 ],
 "metadata": {
  "kernelspec": {
   "display_name": "Python 3",
   "language": "python",
   "name": "python3"
  },
  "language_info": {
   "codemirror_mode": {
    "name": "ipython",
    "version": 3
   },
   "file_extension": ".py",
   "mimetype": "text/x-python",
   "name": "python",
   "nbconvert_exporter": "python",
   "pygments_lexer": "ipython3",
   "version": "3.7.3"
  }
 },
 "nbformat": 4,
 "nbformat_minor": 2
}
